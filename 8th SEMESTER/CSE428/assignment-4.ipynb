{
 "cells": [
  {
   "cell_type": "markdown",
   "id": "99f56098",
   "metadata": {},
   "source": [
    "Before you turn this problem in, make sure everything runs as expected. First, **restart the kernel** (in the menubar, select Kernel$\\rightarrow$Restart) and then **run all cells** (in the menubar, select Cell$\\rightarrow$Run All).\n",
    "\n",
    "Make sure you fill in any place that says `YOUR CODE HERE` or \"YOUR ANSWER HERE\", as well as your name and collaborators below:"
   ]
  },
  {
   "cell_type": "code",
   "execution_count": 196,
   "id": "94ce5628",
   "metadata": {},
   "outputs": [],
   "source": [
    "NAME = \"Shadab Iqbal\"\n",
    "COLLABORATORS = \"\""
   ]
  },
  {
   "cell_type": "markdown",
   "id": "4da31a6c",
   "metadata": {},
   "source": [
    "---"
   ]
  },
  {
   "cell_type": "markdown",
   "id": "71965798",
   "metadata": {
    "deletable": false,
    "editable": false,
    "nbgrader": {
     "cell_type": "markdown",
     "checksum": "a60b8c4e677523727eab4f7759650400",
     "grade": false,
     "grade_id": "cell-1b4c2f2281b1520c",
     "locked": true,
     "schema_version": 3,
     "solution": false,
     "task": false
    }
   },
   "source": [
    "# First import the necessary libraries"
   ]
  },
  {
   "cell_type": "code",
   "execution_count": 197,
   "id": "3fba5b99",
   "metadata": {
    "deletable": false,
    "editable": false,
    "nbgrader": {
     "cell_type": "code",
     "checksum": "33c6128d397e1926a8f3351c7656b9b0",
     "grade": false,
     "grade_id": "cell-5543fa2e984f6297",
     "locked": true,
     "schema_version": 3,
     "solution": false,
     "task": false
    }
   },
   "outputs": [],
   "source": [
    "import numpy as np\n",
    "import pandas as pd\n",
    "import matplotlib.pyplot as plt\n",
    "\n",
    "from sklearn import datasets, preprocessing, linear_model\n",
    "from sklearn.model_selection import train_test_split"
   ]
  },
  {
   "cell_type": "markdown",
   "id": "e29cf1c8",
   "metadata": {
    "deletable": false,
    "editable": false,
    "nbgrader": {
     "cell_type": "markdown",
     "checksum": "d02ab800c390be8b40007a251b9f702a",
     "grade": false,
     "grade_id": "cell-3ffbb314eccd1229",
     "locked": true,
     "schema_version": 3,
     "solution": false,
     "task": false
    }
   },
   "source": [
    "# Linear Regression"
   ]
  },
  {
   "cell_type": "code",
   "execution_count": 198,
   "id": "95d33412",
   "metadata": {
    "deletable": false,
    "nbgrader": {
     "cell_type": "code",
     "checksum": "8db452901217c784823a2642df034ffb",
     "grade": true,
     "grade_id": "cell-fc331f4fdfc84046",
     "locked": false,
     "points": 3,
     "schema_version": 3,
     "solution": true,
     "task": false
    }
   },
   "outputs": [
    {
     "name": "stdout",
     "output_type": "stream",
     "text": [
      "(442, 10)\n",
      "(442,)\n"
     ]
    }
   ],
   "source": [
    "# Import the diabetes dataset from sklearn's datasets module, save it to the variable data\n",
    "data = datasets.load_diabetes()\n",
    "\n",
    "# Split the data into X and y. Print the shape of the two array.\n",
    "X = data['data']\n",
    "y = data['target']\n",
    "\n",
    "print(X.shape)\n",
    "print(y.shape)"
   ]
  },
  {
   "cell_type": "markdown",
   "id": "541153db",
   "metadata": {
    "deletable": false,
    "editable": false,
    "nbgrader": {
     "cell_type": "markdown",
     "checksum": "3309ba2247f726fece6e5446722ba511",
     "grade": false,
     "grade_id": "cell-8b64aba395f6a468",
     "locked": true,
     "schema_version": 3,
     "solution": false,
     "task": false
    }
   },
   "source": [
    "## Question 1\n",
    "How many samples are there in this datasets? How many features are there per sample?"
   ]
  },
  {
   "cell_type": "markdown",
   "id": "20f3b151",
   "metadata": {
    "deletable": false,
    "nbgrader": {
     "cell_type": "markdown",
     "checksum": "6ed3c16c189795980c4d65ae9204adae",
     "grade": true,
     "grade_id": "cell-a5e45583a3189462",
     "locked": false,
     "points": 1,
     "schema_version": 3,
     "solution": true,
     "task": false
    }
   },
   "source": [
    "YOUR ANSWER HERE:\n",
    "\n",
    "There are 442 samples in this database and the number of features per sample is 10."
   ]
  },
  {
   "cell_type": "code",
   "execution_count": 199,
   "id": "9f9e834b",
   "metadata": {
    "deletable": false,
    "nbgrader": {
     "cell_type": "code",
     "checksum": "0496f465bbde9295deef210da33119fd",
     "grade": true,
     "grade_id": "cell-82a20292eaad0f79",
     "locked": false,
     "points": 1,
     "schema_version": 3,
     "solution": true,
     "task": false
    }
   },
   "outputs": [
    {
     "data": {
      "text/html": [
       "<div>\n",
       "<style scoped>\n",
       "    .dataframe tbody tr th:only-of-type {\n",
       "        vertical-align: middle;\n",
       "    }\n",
       "\n",
       "    .dataframe tbody tr th {\n",
       "        vertical-align: top;\n",
       "    }\n",
       "\n",
       "    .dataframe thead th {\n",
       "        text-align: right;\n",
       "    }\n",
       "</style>\n",
       "<table border=\"1\" class=\"dataframe\">\n",
       "  <thead>\n",
       "    <tr style=\"text-align: right;\">\n",
       "      <th></th>\n",
       "      <th>age</th>\n",
       "      <th>sex</th>\n",
       "      <th>bmi</th>\n",
       "      <th>bp</th>\n",
       "      <th>s1</th>\n",
       "      <th>s2</th>\n",
       "      <th>s3</th>\n",
       "      <th>s4</th>\n",
       "      <th>s5</th>\n",
       "      <th>s6</th>\n",
       "      <th>target</th>\n",
       "    </tr>\n",
       "  </thead>\n",
       "  <tbody>\n",
       "    <tr>\n",
       "      <th>0</th>\n",
       "      <td>0.038076</td>\n",
       "      <td>0.050680</td>\n",
       "      <td>0.061696</td>\n",
       "      <td>0.021872</td>\n",
       "      <td>-0.044223</td>\n",
       "      <td>-0.034821</td>\n",
       "      <td>-0.043401</td>\n",
       "      <td>-0.002592</td>\n",
       "      <td>0.019908</td>\n",
       "      <td>-0.017646</td>\n",
       "      <td>151.0</td>\n",
       "    </tr>\n",
       "    <tr>\n",
       "      <th>1</th>\n",
       "      <td>-0.001882</td>\n",
       "      <td>-0.044642</td>\n",
       "      <td>-0.051474</td>\n",
       "      <td>-0.026328</td>\n",
       "      <td>-0.008449</td>\n",
       "      <td>-0.019163</td>\n",
       "      <td>0.074412</td>\n",
       "      <td>-0.039493</td>\n",
       "      <td>-0.068330</td>\n",
       "      <td>-0.092204</td>\n",
       "      <td>75.0</td>\n",
       "    </tr>\n",
       "    <tr>\n",
       "      <th>2</th>\n",
       "      <td>0.085299</td>\n",
       "      <td>0.050680</td>\n",
       "      <td>0.044451</td>\n",
       "      <td>-0.005671</td>\n",
       "      <td>-0.045599</td>\n",
       "      <td>-0.034194</td>\n",
       "      <td>-0.032356</td>\n",
       "      <td>-0.002592</td>\n",
       "      <td>0.002864</td>\n",
       "      <td>-0.025930</td>\n",
       "      <td>141.0</td>\n",
       "    </tr>\n",
       "    <tr>\n",
       "      <th>3</th>\n",
       "      <td>-0.089063</td>\n",
       "      <td>-0.044642</td>\n",
       "      <td>-0.011595</td>\n",
       "      <td>-0.036656</td>\n",
       "      <td>0.012191</td>\n",
       "      <td>0.024991</td>\n",
       "      <td>-0.036038</td>\n",
       "      <td>0.034309</td>\n",
       "      <td>0.022692</td>\n",
       "      <td>-0.009362</td>\n",
       "      <td>206.0</td>\n",
       "    </tr>\n",
       "    <tr>\n",
       "      <th>4</th>\n",
       "      <td>0.005383</td>\n",
       "      <td>-0.044642</td>\n",
       "      <td>-0.036385</td>\n",
       "      <td>0.021872</td>\n",
       "      <td>0.003935</td>\n",
       "      <td>0.015596</td>\n",
       "      <td>0.008142</td>\n",
       "      <td>-0.002592</td>\n",
       "      <td>-0.031991</td>\n",
       "      <td>-0.046641</td>\n",
       "      <td>135.0</td>\n",
       "    </tr>\n",
       "  </tbody>\n",
       "</table>\n",
       "</div>"
      ],
      "text/plain": [
       "        age       sex       bmi        bp        s1        s2        s3  \\\n",
       "0  0.038076  0.050680  0.061696  0.021872 -0.044223 -0.034821 -0.043401   \n",
       "1 -0.001882 -0.044642 -0.051474 -0.026328 -0.008449 -0.019163  0.074412   \n",
       "2  0.085299  0.050680  0.044451 -0.005671 -0.045599 -0.034194 -0.032356   \n",
       "3 -0.089063 -0.044642 -0.011595 -0.036656  0.012191  0.024991 -0.036038   \n",
       "4  0.005383 -0.044642 -0.036385  0.021872  0.003935  0.015596  0.008142   \n",
       "\n",
       "         s4        s5        s6  target  \n",
       "0 -0.002592  0.019908 -0.017646   151.0  \n",
       "1 -0.039493 -0.068330 -0.092204    75.0  \n",
       "2 -0.002592  0.002864 -0.025930   141.0  \n",
       "3  0.034309  0.022692 -0.009362   206.0  \n",
       "4 -0.002592 -0.031991 -0.046641   135.0  "
      ]
     },
     "execution_count": 199,
     "metadata": {},
     "output_type": "execute_result"
    }
   ],
   "source": [
    "# Display the first 5 rows of the dataset in a pandas dataframe format\n",
    "\n",
    "# YOUR CODE HERE\n",
    "df = pd.DataFrame(X, columns=data[\"feature_names\"])\n",
    "df['target'] = y\n",
    "df.head()"
   ]
  },
  {
   "cell_type": "code",
   "execution_count": 200,
   "id": "ce49f841",
   "metadata": {
    "deletable": false,
    "nbgrader": {
     "cell_type": "code",
     "checksum": "944c29ea60db2003f79d5623719b7de2",
     "grade": true,
     "grade_id": "cell-6439d3c648bd6354",
     "locked": false,
     "points": 1,
     "schema_version": 3,
     "solution": true,
     "task": false
    }
   },
   "outputs": [
    {
     "name": "stdout",
     "output_type": "stream",
     "text": [
      "Feature wise maxima\n",
      "age         0.110727\n",
      "sex         0.050680\n",
      "bmi         0.170555\n",
      "bp          0.132044\n",
      "s1          0.153914\n",
      "s2          0.198788\n",
      "s3          0.181179\n",
      "s4          0.185234\n",
      "s5          0.133599\n",
      "s6          0.135612\n",
      "target    346.000000\n",
      "dtype: float64\n",
      "Feature wise minima\n",
      "age       -0.107226\n",
      "sex       -0.044642\n",
      "bmi       -0.090275\n",
      "bp        -0.112400\n",
      "s1        -0.126781\n",
      "s2        -0.115613\n",
      "s3        -0.102307\n",
      "s4        -0.076395\n",
      "s5        -0.126097\n",
      "s6        -0.137767\n",
      "target    25.000000\n",
      "dtype: float64\n"
     ]
    }
   ],
   "source": [
    "# Print the maximum and the minimum of each each feature\n",
    "\n",
    "# YOUR CODE HERE\n",
    "print(\"Feature wise maxima\")\n",
    "print(df.max())\n",
    "print(\"Feature wise minima\")\n",
    "print(df.min())"
   ]
  },
  {
   "cell_type": "markdown",
   "id": "d09f5a9d",
   "metadata": {
    "deletable": false,
    "editable": false,
    "nbgrader": {
     "cell_type": "markdown",
     "checksum": "07e71d69fd7fcb2e5072d90d1e8261aa",
     "grade": false,
     "grade_id": "cell-122a7394a4fd6022",
     "locked": true,
     "schema_version": 3,
     "solution": false,
     "task": false
    }
   },
   "source": [
    "## Question 2\n",
    "Are the minimums and the maximums close to each other? Hence, do we need any normalization or standardization?"
   ]
  },
  {
   "cell_type": "markdown",
   "id": "66de4799",
   "metadata": {
    "deletable": false,
    "nbgrader": {
     "cell_type": "markdown",
     "checksum": "eb4c48b5f15a378ea2383227385e59fc",
     "grade": true,
     "grade_id": "cell-39ab0e0fda0b0b7d",
     "locked": false,
     "points": 1,
     "schema_version": 3,
     "solution": true,
     "task": false
    }
   },
   "source": [
    "YOUR ANSWER HERE\n",
    "\n",
    "Yes, the maxima and minima are close enough to each other. Hence we DO NOT need any normalization."
   ]
  },
  {
   "cell_type": "code",
   "execution_count": 201,
   "id": "11a4efcd",
   "metadata": {
    "deletable": false,
    "nbgrader": {
     "cell_type": "code",
     "checksum": "cfc379335ef61c931f3c5ab23814d943",
     "grade": true,
     "grade_id": "cell-f5765d21afe572e7",
     "locked": false,
     "points": 1,
     "schema_version": 3,
     "solution": true,
     "task": false
    }
   },
   "outputs": [
    {
     "name": "stdout",
     "output_type": "stream",
     "text": [
      "(353, 10)\n",
      "(89, 10)\n"
     ]
    }
   ],
   "source": [
    "# Split the data into training and testing set, with 20% of the data in the testing set. Use random_state = 100\n",
    "# Then print the shapes of X_train and X_test to see how many samples are on each set\n",
    "\n",
    "X_train, X_test, y_train, y_test = train_test_split(X, y, test_size=0.20, random_state=100)\n",
    "\n",
    "# YOUR CODE HERE\n",
    "print(X_train.shape)\n",
    "print(X_test.shape)"
   ]
  },
  {
   "cell_type": "code",
   "execution_count": 202,
   "id": "c99d7980",
   "metadata": {
    "deletable": false,
    "nbgrader": {
     "cell_type": "code",
     "checksum": "09f8411a4c260e4d265c52b95005680e",
     "grade": true,
     "grade_id": "cell-b7d35e02e74b752c",
     "locked": false,
     "points": 3,
     "schema_version": 3,
     "solution": true,
     "task": false
    }
   },
   "outputs": [],
   "source": [
    "# Fit a linear regression model on X_train, y_train\n",
    "# predict the model's output for X_train and save it to y_predict_train\n",
    "# predict the model's output for X_test and save it to y_predict_test\n",
    "\n",
    "# YOUR CODE HERE\n",
    "model = linear_model.LinearRegression().fit(X_train, y_train)\n",
    "y_predict_train = model.predict(X_train)\n",
    "y_predict_test = model.predict(X_test)\n",
    "# print(y_predict_test)"
   ]
  },
  {
   "cell_type": "code",
   "execution_count": 203,
   "id": "40b3f28b",
   "metadata": {
    "deletable": false,
    "nbgrader": {
     "cell_type": "code",
     "checksum": "085adc72ab0f0892f3e97a457f238fab",
     "grade": true,
     "grade_id": "cell-a0556858b4619d5a",
     "locked": false,
     "points": 2,
     "schema_version": 3,
     "solution": true,
     "task": false
    }
   },
   "outputs": [
    {
     "name": "stdout",
     "output_type": "stream",
     "text": [
      "MAE on training data= 44.14193729841633\n",
      "MAE on testing data= 40.40741892504263\n"
     ]
    }
   ],
   "source": [
    "# Calculate a suitable performance metric for the training set for this regression problem\n",
    "# Calculate a suitable performance metric for the test set for this regression problem\n",
    "# Print the values\n",
    "\n",
    "performance_train = np.mean(abs(y_train - y_predict_train))\n",
    "performance_test = np.mean(abs(y_test - y_predict_test))\n",
    "\n",
    "# YOUR CODE HERE\n",
    "print(\"MAE on training data=\", performance_train)\n",
    "print(\"MAE on testing data=\", performance_test)\n",
    "\n",
    "# print(y.max())\n",
    "# print(y.min())"
   ]
  },
  {
   "cell_type": "markdown",
   "id": "c43a5b81",
   "metadata": {
    "deletable": false,
    "editable": false,
    "nbgrader": {
     "cell_type": "markdown",
     "checksum": "20003a15d25b627f4725b0a4b84294f8",
     "grade": false,
     "grade_id": "cell-b6a0b1cb5248fa1c",
     "locked": true,
     "schema_version": 3,
     "solution": false,
     "task": false
    }
   },
   "source": [
    "## Question 3\n",
    "- Which performance metric did you use and why?\n",
    "- Given the minimum and the maximum of `y` are 25 and 346, respectively, is this a good model for the dataset? Why or why not?\n",
    "- Suggest some ways (at least one) that might improve the performance metric"
   ]
  },
  {
   "cell_type": "markdown",
   "id": "34453ce6",
   "metadata": {
    "deletable": false,
    "nbgrader": {
     "cell_type": "markdown",
     "checksum": "ed0b926b3bf1872885e69175f5fb9256",
     "grade": true,
     "grade_id": "cell-aaf468f7a8397045",
     "locked": false,
     "points": 6,
     "schema_version": 3,
     "solution": true,
     "task": false
    }
   },
   "source": [
    "YOUR ANSWER HERE\n",
    "\n",
    "We used the Mean Absolute Error (MAE) performance metric because the MSE metric is not suitable in this case. \n",
    "\n",
    "No this is not a good model in respect to the maximum and minimum value of y. Because the errors are causing the prediction to derive a lot from the actual results. \n",
    "\n",
    "We might improve this performance by feature engineering. We might add interaction terms/polynomial terms/spines for better performance. "
   ]
  },
  {
   "cell_type": "markdown",
   "id": "bf643627",
   "metadata": {
    "deletable": false,
    "editable": false,
    "nbgrader": {
     "cell_type": "markdown",
     "checksum": "763826310f3d9155ed2d80a5ebda6790",
     "grade": false,
     "grade_id": "cell-d6c580e6e22f1e37",
     "locked": true,
     "schema_version": 3,
     "solution": false,
     "task": false
    }
   },
   "source": [
    "# Classification"
   ]
  },
  {
   "cell_type": "code",
   "execution_count": 204,
   "id": "61c867b4",
   "metadata": {
    "deletable": false,
    "editable": false,
    "nbgrader": {
     "cell_type": "code",
     "checksum": "540490120144eba74a27d46eaa70ab96",
     "grade": false,
     "grade_id": "cell-a6f8ea3a12b90773",
     "locked": true,
     "schema_version": 3,
     "solution": false,
     "task": false
    }
   },
   "outputs": [
    {
     "name": "stdout",
     "output_type": "stream",
     "text": [
      "Shape of X - (208, 60)\n",
      "Shape of y - (208,)\n",
      "Unique values of y - [0 1]\n"
     ]
    },
    {
     "data": {
      "text/html": [
       "<div>\n",
       "<style scoped>\n",
       "    .dataframe tbody tr th:only-of-type {\n",
       "        vertical-align: middle;\n",
       "    }\n",
       "\n",
       "    .dataframe tbody tr th {\n",
       "        vertical-align: top;\n",
       "    }\n",
       "\n",
       "    .dataframe thead th {\n",
       "        text-align: right;\n",
       "    }\n",
       "</style>\n",
       "<table border=\"1\" class=\"dataframe\">\n",
       "  <thead>\n",
       "    <tr style=\"text-align: right;\">\n",
       "      <th></th>\n",
       "      <th>x1</th>\n",
       "      <th>x2</th>\n",
       "      <th>x3</th>\n",
       "      <th>x4</th>\n",
       "      <th>x5</th>\n",
       "      <th>x6</th>\n",
       "      <th>x7</th>\n",
       "      <th>x8</th>\n",
       "      <th>x9</th>\n",
       "      <th>x10</th>\n",
       "      <th>...</th>\n",
       "      <th>x52</th>\n",
       "      <th>x53</th>\n",
       "      <th>x54</th>\n",
       "      <th>x55</th>\n",
       "      <th>x56</th>\n",
       "      <th>x57</th>\n",
       "      <th>x58</th>\n",
       "      <th>x59</th>\n",
       "      <th>x60</th>\n",
       "      <th>y</th>\n",
       "    </tr>\n",
       "  </thead>\n",
       "  <tbody>\n",
       "    <tr>\n",
       "      <th>0</th>\n",
       "      <td>-4.7000</td>\n",
       "      <td>2.9275</td>\n",
       "      <td>25.0272</td>\n",
       "      <td>10.4968</td>\n",
       "      <td>-3.1874</td>\n",
       "      <td>21.4930</td>\n",
       "      <td>-3.3071</td>\n",
       "      <td>4.5616</td>\n",
       "      <td>30.9744</td>\n",
       "      <td>1.8999</td>\n",
       "      <td>...</td>\n",
       "      <td>9.0405</td>\n",
       "      <td>5.1430</td>\n",
       "      <td>29.2703</td>\n",
       "      <td>20.1728</td>\n",
       "      <td>13.1336</td>\n",
       "      <td>16.1080</td>\n",
       "      <td>23.1764</td>\n",
       "      <td>8.0630</td>\n",
       "      <td>3.0800</td>\n",
       "      <td>0</td>\n",
       "    </tr>\n",
       "    <tr>\n",
       "      <th>1</th>\n",
       "      <td>-4.3205</td>\n",
       "      <td>3.3075</td>\n",
       "      <td>26.0232</td>\n",
       "      <td>11.6536</td>\n",
       "      <td>-2.7523</td>\n",
       "      <td>22.2915</td>\n",
       "      <td>-2.6284</td>\n",
       "      <td>7.5696</td>\n",
       "      <td>31.3392</td>\n",
       "      <td>2.5848</td>\n",
       "      <td>...</td>\n",
       "      <td>9.1260</td>\n",
       "      <td>5.1958</td>\n",
       "      <td>29.0816</td>\n",
       "      <td>20.2256</td>\n",
       "      <td>13.1528</td>\n",
       "      <td>16.0840</td>\n",
       "      <td>23.1029</td>\n",
       "      <td>8.0364</td>\n",
       "      <td>3.1100</td>\n",
       "      <td>0</td>\n",
       "    </tr>\n",
       "    <tr>\n",
       "      <th>2</th>\n",
       "      <td>-4.6070</td>\n",
       "      <td>3.4550</td>\n",
       "      <td>26.6376</td>\n",
       "      <td>12.5992</td>\n",
       "      <td>-3.1494</td>\n",
       "      <td>22.1400</td>\n",
       "      <td>-2.3259</td>\n",
       "      <td>8.0336</td>\n",
       "      <td>34.9568</td>\n",
       "      <td>5.5746</td>\n",
       "      <td>...</td>\n",
       "      <td>9.3480</td>\n",
       "      <td>5.3652</td>\n",
       "      <td>29.1615</td>\n",
       "      <td>20.4320</td>\n",
       "      <td>13.1952</td>\n",
       "      <td>16.1896</td>\n",
       "      <td>23.3444</td>\n",
       "      <td>8.0665</td>\n",
       "      <td>3.1950</td>\n",
       "      <td>0</td>\n",
       "    </tr>\n",
       "    <tr>\n",
       "      <th>3</th>\n",
       "      <td>-4.8500</td>\n",
       "      <td>2.4275</td>\n",
       "      <td>25.4952</td>\n",
       "      <td>10.4920</td>\n",
       "      <td>-4.6105</td>\n",
       "      <td>21.1840</td>\n",
       "      <td>-3.7922</td>\n",
       "      <td>4.0416</td>\n",
       "      <td>26.9568</td>\n",
       "      <td>1.1376</td>\n",
       "      <td>...</td>\n",
       "      <td>9.1815</td>\n",
       "      <td>5.0792</td>\n",
       "      <td>29.2550</td>\n",
       "      <td>20.2040</td>\n",
       "      <td>13.0584</td>\n",
       "      <td>16.0300</td>\n",
       "      <td>23.0924</td>\n",
       "      <td>8.0280</td>\n",
       "      <td>3.2925</td>\n",
       "      <td>0</td>\n",
       "    </tr>\n",
       "    <tr>\n",
       "      <th>4</th>\n",
       "      <td>-3.8570</td>\n",
       "      <td>3.6650</td>\n",
       "      <td>25.1544</td>\n",
       "      <td>10.9456</td>\n",
       "      <td>-3.8790</td>\n",
       "      <td>21.3245</td>\n",
       "      <td>-3.6701</td>\n",
       "      <td>5.9472</td>\n",
       "      <td>31.7024</td>\n",
       "      <td>4.0131</td>\n",
       "      <td>...</td>\n",
       "      <td>9.0465</td>\n",
       "      <td>5.1188</td>\n",
       "      <td>29.1785</td>\n",
       "      <td>20.2640</td>\n",
       "      <td>13.0120</td>\n",
       "      <td>16.0432</td>\n",
       "      <td>23.1008</td>\n",
       "      <td>8.0749</td>\n",
       "      <td>3.2350</td>\n",
       "      <td>0</td>\n",
       "    </tr>\n",
       "  </tbody>\n",
       "</table>\n",
       "<p>5 rows × 61 columns</p>\n",
       "</div>"
      ],
      "text/plain": [
       "       x1      x2       x3       x4      x5       x6      x7      x8       x9  \\\n",
       "0 -4.7000  2.9275  25.0272  10.4968 -3.1874  21.4930 -3.3071  4.5616  30.9744   \n",
       "1 -4.3205  3.3075  26.0232  11.6536 -2.7523  22.2915 -2.6284  7.5696  31.3392   \n",
       "2 -4.6070  3.4550  26.6376  12.5992 -3.1494  22.1400 -2.3259  8.0336  34.9568   \n",
       "3 -4.8500  2.4275  25.4952  10.4920 -4.6105  21.1840 -3.7922  4.0416  26.9568   \n",
       "4 -3.8570  3.6650  25.1544  10.9456 -3.8790  21.3245 -3.6701  5.9472  31.7024   \n",
       "\n",
       "      x10  ...     x52     x53      x54      x55      x56      x57      x58  \\\n",
       "0  1.8999  ...  9.0405  5.1430  29.2703  20.1728  13.1336  16.1080  23.1764   \n",
       "1  2.5848  ...  9.1260  5.1958  29.0816  20.2256  13.1528  16.0840  23.1029   \n",
       "2  5.5746  ...  9.3480  5.3652  29.1615  20.4320  13.1952  16.1896  23.3444   \n",
       "3  1.1376  ...  9.1815  5.0792  29.2550  20.2040  13.0584  16.0300  23.0924   \n",
       "4  4.0131  ...  9.0465  5.1188  29.1785  20.2640  13.0120  16.0432  23.1008   \n",
       "\n",
       "      x59     x60  y  \n",
       "0  8.0630  3.0800  0  \n",
       "1  8.0364  3.1100  0  \n",
       "2  8.0665  3.1950  0  \n",
       "3  8.0280  3.2925  0  \n",
       "4  8.0749  3.2350  0  \n",
       "\n",
       "[5 rows x 61 columns]"
      ]
     },
     "execution_count": 204,
     "metadata": {},
     "output_type": "execute_result"
    }
   ],
   "source": [
    "# Import the sonar dataset (contained in the sonar_data.csv file)\n",
    "df = pd.read_csv(\"sonar_data.csv\")\n",
    "\n",
    "# Split it into X and y\n",
    "X = df.drop(columns=['y']).values\n",
    "y = df['y'].values\n",
    "print(\"Shape of X -\", X.shape)\n",
    "print(\"Shape of y -\", y.shape)\n",
    "print(\"Unique values of y -\", np.unique(y))\n",
    "\n",
    "# Printing the first 5 rows\n",
    "df.head()\n"
   ]
  },
  {
   "cell_type": "markdown",
   "id": "83e8879d",
   "metadata": {
    "deletable": false,
    "editable": false,
    "nbgrader": {
     "cell_type": "markdown",
     "checksum": "f0c23ab1c6704d697c0fb167ac905cc7",
     "grade": false,
     "grade_id": "cell-31cd472e9596e497",
     "locked": true,
     "schema_version": 3,
     "solution": false,
     "task": false
    }
   },
   "source": [
    "## Question 4\n",
    "Why do we need normalization/standardization in this case?"
   ]
  },
  {
   "cell_type": "markdown",
   "id": "fcd61c19",
   "metadata": {
    "deletable": false,
    "nbgrader": {
     "cell_type": "markdown",
     "checksum": "ce6078071530406aa7c2dbc1bce815dc",
     "grade": true,
     "grade_id": "cell-a599631efc396bd4",
     "locked": false,
     "points": 2,
     "schema_version": 3,
     "solution": true,
     "task": false
    }
   },
   "source": [
    "YOUR ANSWER HERE\n",
    "\n",
    "Here we need normalization because the feature values of X differ by a lot. If we predict without normalizing it, it will provide inaccurate results. "
   ]
  },
  {
   "cell_type": "code",
   "execution_count": 205,
   "id": "89c187d5",
   "metadata": {
    "deletable": false,
    "nbgrader": {
     "cell_type": "code",
     "checksum": "33e948bd10f5c9fac17b5991e10022d3",
     "grade": true,
     "grade_id": "cell-f60b8a34feb6bcdb",
     "locked": false,
     "points": 2,
     "schema_version": 3,
     "solution": true,
     "task": false
    }
   },
   "outputs": [
    {
     "data": {
      "text/html": [
       "<div>\n",
       "<style scoped>\n",
       "    .dataframe tbody tr th:only-of-type {\n",
       "        vertical-align: middle;\n",
       "    }\n",
       "\n",
       "    .dataframe tbody tr th {\n",
       "        vertical-align: top;\n",
       "    }\n",
       "\n",
       "    .dataframe thead th {\n",
       "        text-align: right;\n",
       "    }\n",
       "</style>\n",
       "<table border=\"1\" class=\"dataframe\">\n",
       "  <thead>\n",
       "    <tr style=\"text-align: right;\">\n",
       "      <th></th>\n",
       "      <th>x1</th>\n",
       "      <th>x2</th>\n",
       "      <th>x3</th>\n",
       "      <th>x4</th>\n",
       "      <th>x5</th>\n",
       "      <th>x6</th>\n",
       "      <th>x7</th>\n",
       "      <th>x8</th>\n",
       "      <th>x9</th>\n",
       "      <th>x10</th>\n",
       "      <th>...</th>\n",
       "      <th>x51</th>\n",
       "      <th>x52</th>\n",
       "      <th>x53</th>\n",
       "      <th>x54</th>\n",
       "      <th>x55</th>\n",
       "      <th>x56</th>\n",
       "      <th>x57</th>\n",
       "      <th>x58</th>\n",
       "      <th>x59</th>\n",
       "      <th>x60</th>\n",
       "    </tr>\n",
       "  </thead>\n",
       "  <tbody>\n",
       "    <tr>\n",
       "      <th>0</th>\n",
       "      <td>0.136431</td>\n",
       "      <td>0.156451</td>\n",
       "      <td>0.135677</td>\n",
       "      <td>0.035426</td>\n",
       "      <td>0.224956</td>\n",
       "      <td>0.237571</td>\n",
       "      <td>0.407468</td>\n",
       "      <td>0.340904</td>\n",
       "      <td>0.449282</td>\n",
       "      <td>0.285714</td>\n",
       "      <td>...</td>\n",
       "      <td>0.231076</td>\n",
       "      <td>0.027104</td>\n",
       "      <td>0.155844</td>\n",
       "      <td>0.435673</td>\n",
       "      <td>0.149660</td>\n",
       "      <td>0.417949</td>\n",
       "      <td>0.502841</td>\n",
       "      <td>0.185355</td>\n",
       "      <td>0.245179</td>\n",
       "      <td>0.060046</td>\n",
       "    </tr>\n",
       "    <tr>\n",
       "      <th>1</th>\n",
       "      <td>0.323009</td>\n",
       "      <td>0.221603</td>\n",
       "      <td>0.272011</td>\n",
       "      <td>0.150024</td>\n",
       "      <td>0.283033</td>\n",
       "      <td>0.666756</td>\n",
       "      <td>0.574405</td>\n",
       "      <td>0.755458</td>\n",
       "      <td>0.483045</td>\n",
       "      <td>0.394537</td>\n",
       "      <td>...</td>\n",
       "      <td>0.124502</td>\n",
       "      <td>0.108417</td>\n",
       "      <td>0.218182</td>\n",
       "      <td>0.111111</td>\n",
       "      <td>0.199546</td>\n",
       "      <td>0.479487</td>\n",
       "      <td>0.389205</td>\n",
       "      <td>0.105263</td>\n",
       "      <td>0.140496</td>\n",
       "      <td>0.087760</td>\n",
       "    </tr>\n",
       "    <tr>\n",
       "      <th>2</th>\n",
       "      <td>0.182153</td>\n",
       "      <td>0.246892</td>\n",
       "      <td>0.356110</td>\n",
       "      <td>0.243699</td>\n",
       "      <td>0.230028</td>\n",
       "      <td>0.585327</td>\n",
       "      <td>0.648810</td>\n",
       "      <td>0.819405</td>\n",
       "      <td>0.817859</td>\n",
       "      <td>0.869584</td>\n",
       "      <td>...</td>\n",
       "      <td>0.032869</td>\n",
       "      <td>0.319544</td>\n",
       "      <td>0.418182</td>\n",
       "      <td>0.248538</td>\n",
       "      <td>0.394558</td>\n",
       "      <td>0.615385</td>\n",
       "      <td>0.889205</td>\n",
       "      <td>0.368421</td>\n",
       "      <td>0.258953</td>\n",
       "      <td>0.166282</td>\n",
       "    </tr>\n",
       "    <tr>\n",
       "      <th>3</th>\n",
       "      <td>0.062684</td>\n",
       "      <td>0.070724</td>\n",
       "      <td>0.199737</td>\n",
       "      <td>0.034950</td>\n",
       "      <td>0.034999</td>\n",
       "      <td>0.071486</td>\n",
       "      <td>0.288149</td>\n",
       "      <td>0.269239</td>\n",
       "      <td>0.077447</td>\n",
       "      <td>0.164593</td>\n",
       "      <td>...</td>\n",
       "      <td>0.240040</td>\n",
       "      <td>0.161198</td>\n",
       "      <td>0.080519</td>\n",
       "      <td>0.409357</td>\n",
       "      <td>0.179138</td>\n",
       "      <td>0.176923</td>\n",
       "      <td>0.133523</td>\n",
       "      <td>0.093822</td>\n",
       "      <td>0.107438</td>\n",
       "      <td>0.256351</td>\n",
       "    </tr>\n",
       "    <tr>\n",
       "      <th>4</th>\n",
       "      <td>0.550885</td>\n",
       "      <td>0.282898</td>\n",
       "      <td>0.153088</td>\n",
       "      <td>0.079886</td>\n",
       "      <td>0.132640</td>\n",
       "      <td>0.147003</td>\n",
       "      <td>0.318182</td>\n",
       "      <td>0.531863</td>\n",
       "      <td>0.516659</td>\n",
       "      <td>0.621479</td>\n",
       "      <td>...</td>\n",
       "      <td>0.155378</td>\n",
       "      <td>0.032810</td>\n",
       "      <td>0.127273</td>\n",
       "      <td>0.277778</td>\n",
       "      <td>0.235828</td>\n",
       "      <td>0.028205</td>\n",
       "      <td>0.196023</td>\n",
       "      <td>0.102975</td>\n",
       "      <td>0.292011</td>\n",
       "      <td>0.203233</td>\n",
       "    </tr>\n",
       "  </tbody>\n",
       "</table>\n",
       "<p>5 rows × 60 columns</p>\n",
       "</div>"
      ],
      "text/plain": [
       "         x1        x2        x3        x4        x5        x6        x7  \\\n",
       "0  0.136431  0.156451  0.135677  0.035426  0.224956  0.237571  0.407468   \n",
       "1  0.323009  0.221603  0.272011  0.150024  0.283033  0.666756  0.574405   \n",
       "2  0.182153  0.246892  0.356110  0.243699  0.230028  0.585327  0.648810   \n",
       "3  0.062684  0.070724  0.199737  0.034950  0.034999  0.071486  0.288149   \n",
       "4  0.550885  0.282898  0.153088  0.079886  0.132640  0.147003  0.318182   \n",
       "\n",
       "         x8        x9       x10  ...       x51       x52       x53       x54  \\\n",
       "0  0.340904  0.449282  0.285714  ...  0.231076  0.027104  0.155844  0.435673   \n",
       "1  0.755458  0.483045  0.394537  ...  0.124502  0.108417  0.218182  0.111111   \n",
       "2  0.819405  0.817859  0.869584  ...  0.032869  0.319544  0.418182  0.248538   \n",
       "3  0.269239  0.077447  0.164593  ...  0.240040  0.161198  0.080519  0.409357   \n",
       "4  0.531863  0.516659  0.621479  ...  0.155378  0.032810  0.127273  0.277778   \n",
       "\n",
       "        x55       x56       x57       x58       x59       x60  \n",
       "0  0.149660  0.417949  0.502841  0.185355  0.245179  0.060046  \n",
       "1  0.199546  0.479487  0.389205  0.105263  0.140496  0.087760  \n",
       "2  0.394558  0.615385  0.889205  0.368421  0.258953  0.166282  \n",
       "3  0.179138  0.176923  0.133523  0.093822  0.107438  0.256351  \n",
       "4  0.235828  0.028205  0.196023  0.102975  0.292011  0.203233  \n",
       "\n",
       "[5 rows x 60 columns]"
      ]
     },
     "execution_count": 205,
     "metadata": {},
     "output_type": "execute_result"
    }
   ],
   "source": [
    "# Use min-max scaling to normalize the features of X. Save the normalized array as X_norm. \n",
    "X_norm = preprocessing.minmax_scale(X)\n",
    "\n",
    "# To confirm that it is now normalized, use the follwing code\n",
    "df_norm = pd.DataFrame(X_norm, columns=df.columns[:-1])\n",
    "df_norm.head()\n",
    "\n",
    "# YOUR CODE HERE"
   ]
  },
  {
   "cell_type": "code",
   "execution_count": 206,
   "id": "919d4e97",
   "metadata": {
    "deletable": false,
    "nbgrader": {
     "cell_type": "code",
     "checksum": "90b1a36f7368a5c60dfe9bbf45243fe8",
     "grade": true,
     "grade_id": "cell-306bb7f1b779b785",
     "locked": false,
     "points": 2,
     "schema_version": 3,
     "solution": true,
     "task": false
    }
   },
   "outputs": [
    {
     "name": "stdout",
     "output_type": "stream",
     "text": [
      "X_train shape =  (149, 60)\n",
      "X_valid shape =  (27, 60)\n",
      "X_test shape =  (32, 60)\n"
     ]
    }
   ],
   "source": [
    "# Split the dataset (X_norm, y) into 85% training - 15% testing\n",
    "# Then split the (X_train, y_train) again into 85% training and 15% validation.\n",
    "# In both cases, use random_state=100\n",
    "# Finally, print the shape of the X_train, X_valid, and X_test\n",
    "\n",
    "X_train, X_test, y_train, y_test = train_test_split(X_norm, y, test_size=0.15, random_state=100)\n",
    "X_train, X_valid, y_train, y_valid = train_test_split(X_train, y_train, test_size=0.15, random_state=100)\n",
    "\n",
    "# YOUR CODE HERE\n",
    "print(\"X_train shape = \", X_train.shape)\n",
    "print(\"X_valid shape = \", X_valid.shape)\n",
    "print(\"X_test shape = \", X_test.shape)"
   ]
  },
  {
   "cell_type": "markdown",
   "id": "7417d60c",
   "metadata": {
    "deletable": false,
    "editable": false,
    "nbgrader": {
     "cell_type": "markdown",
     "checksum": "1eacd66acc8a4928f706fcc93fb3f865",
     "grade": false,
     "grade_id": "cell-017446ba40c241cc",
     "locked": true,
     "schema_version": 3,
     "solution": false,
     "task": false
    }
   },
   "source": [
    "## Quesion 5\n",
    "We want to fit a Logistic Regression model. However, instead of manually setting the value of C (the inverse of the regularization strength), we want find the optimum value.\n",
    "- On which data (train/test/valid) should we calculate the performance metric to find the optimum value of C?"
   ]
  },
  {
   "cell_type": "markdown",
   "id": "746add93",
   "metadata": {
    "deletable": false,
    "nbgrader": {
     "cell_type": "markdown",
     "checksum": "dd3224215a344382855fba7eaf967817",
     "grade": true,
     "grade_id": "cell-86701d810e16c970",
     "locked": false,
     "points": 2,
     "schema_version": 3,
     "solution": true,
     "task": false
    }
   },
   "source": [
    "YOUR ANSWER HERE\n",
    "\n",
    "On \"valid\" data we should calculate the performance metric to find the optimum value of C."
   ]
  },
  {
   "cell_type": "code",
   "execution_count": 207,
   "id": "e43edf05",
   "metadata": {
    "deletable": false,
    "nbgrader": {
     "cell_type": "code",
     "checksum": "e2de805a04a01bed65e469eedcecc444",
     "grade": true,
     "grade_id": "cell-33b508ab0187ed79",
     "locked": false,
     "points": 5,
     "schema_version": 3,
     "solution": true,
     "task": false
    }
   },
   "outputs": [
    {
     "name": "stdout",
     "output_type": "stream",
     "text": [
      "{0.01: 62.96296296296296, 0.1: 70.37037037037037, 1: 66.66666666666666, 10: 66.66666666666666}\n"
     ]
    }
   ],
   "source": [
    "# Complete the follwing code to find the optimum value of C\n",
    "C_candidate = [0.01, 0.1, 1, 10]\n",
    "performance_metric_all = {}\n",
    "\n",
    "for C in C_candidate:\n",
    "    # define the Logistic Regression model with C = C and random_state=100\n",
    "    # Fit the model using X_traina and y_train\n",
    "    # predict the model's output for the ____ dataset (which one should it be?)\n",
    "    # calculate the performance metric for the ____ dataset\n",
    "    # save it in the array performance_metric_all by using performance_metric_all[C] = per...\n",
    "    model = linear_model.LogisticRegression(C=C, random_state=100)\n",
    "    model = model.fit(X_train, y_train)\n",
    "    y_predict_valid = model.predict(X_valid)\n",
    "    performance_valid = np.mean(y_valid == y_predict_valid)*100\n",
    "    performance_metric_all[C] = performance_valid\n",
    "    \n",
    "\n",
    "print(performance_metric_all)\n",
    "\n",
    "# YOUR CODE HERE"
   ]
  },
  {
   "cell_type": "markdown",
   "id": "f311eb02",
   "metadata": {
    "deletable": false,
    "editable": false,
    "nbgrader": {
     "cell_type": "markdown",
     "checksum": "e20eac89f7133612f695f345422a219d",
     "grade": false,
     "grade_id": "cell-b0351aa30e3d8419",
     "locked": true,
     "schema_version": 3,
     "solution": false,
     "task": false
    }
   },
   "source": [
    "## Quesion 6\n",
    "Based on the output of the previous block, which value of C should we choose?"
   ]
  },
  {
   "cell_type": "markdown",
   "id": "45fcbfd8",
   "metadata": {
    "deletable": false,
    "nbgrader": {
     "cell_type": "markdown",
     "checksum": "bd209c8ba9df0c7c12abdb5a3272ba9d",
     "grade": true,
     "grade_id": "cell-e136f88268cc26d2",
     "locked": false,
     "points": 1,
     "schema_version": 3,
     "solution": true,
     "task": false
    }
   },
   "source": [
    "YOUR ANSWER HERE\n",
    "\n",
    "We should choose the \"0.1\" as the value of C as it gives the highest accuracy."
   ]
  },
  {
   "cell_type": "code",
   "execution_count": 208,
   "id": "200c903b",
   "metadata": {
    "deletable": false,
    "nbgrader": {
     "cell_type": "code",
     "checksum": "cdc6f8b214d935c2dc6720e20568480b",
     "grade": true,
     "grade_id": "cell-5b14833953d397d3",
     "locked": false,
     "points": 3,
     "schema_version": 3,
     "solution": true,
     "task": false
    }
   },
   "outputs": [],
   "source": [
    "# Fit a logistic regression model on X_train, y_train using the C value found above. Use random_state=100\n",
    "# predict the model's output for X_train and save it to y_predict_train\n",
    "# predict the model's output for X_test and save it to y_predict_test\n",
    "\n",
    "# YOUR CODE HERE\n",
    "model = linear_model.LogisticRegression(C=0.1, random_state=100).fit(X_train, y_train)\n",
    "y_predict_train = model.predict(X_train)\n",
    "y_predict_test = model.predict(X_test)"
   ]
  },
  {
   "cell_type": "code",
   "execution_count": 209,
   "id": "04b2242c",
   "metadata": {
    "deletable": false,
    "nbgrader": {
     "cell_type": "code",
     "checksum": "9d147d8c9651041c8bb66823910f49e9",
     "grade": true,
     "grade_id": "cell-28abda9ee6a4686f",
     "locked": false,
     "points": 2,
     "schema_version": 3,
     "solution": true,
     "task": false
    }
   },
   "outputs": [
    {
     "name": "stdout",
     "output_type": "stream",
     "text": [
      "Training performance = 0.8\n",
      "Testing performance = 0.8947368421052632\n"
     ]
    }
   ],
   "source": [
    "# Calculate a suitable performance metric for the training set for this classification problem\n",
    "# Calculate a suitable performance metric for the test set for this classification problem\n",
    "# Print the values\n",
    "\n",
    "from sklearn.metrics import f1_score\n",
    "\n",
    "performance_train = f1_score(y_train, y_predict_train, average='binary')\n",
    "performance_test = f1_score(y_test, y_predict_test, average='binary')\n",
    "\n",
    "# YOUR CODE HERE\n",
    "print(\"Training performance =\", performance_train)\n",
    "print(\"Testing performance =\", performance_test)"
   ]
  },
  {
   "cell_type": "markdown",
   "id": "86f3e622",
   "metadata": {
    "deletable": false,
    "editable": false,
    "nbgrader": {
     "cell_type": "markdown",
     "checksum": "67d658b59402862aab973c3cea5424fc",
     "grade": false,
     "grade_id": "cell-9eccac3af46884bf",
     "locked": true,
     "schema_version": 3,
     "solution": false,
     "task": false
    }
   },
   "source": [
    "## Question 7\n",
    "- Which performance metric did you use and why?\n",
    "- Is this a good model for the dataset? Why or why not?\n",
    "- Suggest some ways (at least one) that might improve the performance metric"
   ]
  },
  {
   "cell_type": "markdown",
   "id": "38521349",
   "metadata": {
    "deletable": false,
    "nbgrader": {
     "cell_type": "markdown",
     "checksum": "161eab883c47e09d0b44eadd1c283662",
     "grade": true,
     "grade_id": "cell-87d1c00ace8c1462",
     "locked": false,
     "points": 2,
     "schema_version": 3,
     "solution": true,
     "task": false
    }
   },
   "source": [
    "YOUR ANSWER HERE\n",
    "\n",
    "I used the F1 measure for measuring performance. I have seen examples where accuracy miserably fails to judge the performance of a classifier. As F1 is a combination of precision and recall metric, I chose this one.\n",
    "\n",
    "This is a mediocre model for the dataset. Because we know, the more the value of F1 measure is close to 1, the better the model is. \n",
    "\n",
    "We might improve the performance metric by tweaking the optimizer of the learning algorithm."
   ]
  }
 ],
 "metadata": {
  "kernelspec": {
   "display_name": "Python 3",
   "language": "python",
   "name": "python3"
  },
  "language_info": {
   "codemirror_mode": {
    "name": "ipython",
    "version": 3
   },
   "file_extension": ".py",
   "mimetype": "text/x-python",
   "name": "python",
   "nbconvert_exporter": "python",
   "pygments_lexer": "ipython3",
   "version": "3.7.3"
  }
 },
 "nbformat": 4,
 "nbformat_minor": 5
}
